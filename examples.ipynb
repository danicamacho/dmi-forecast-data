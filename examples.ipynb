{
 "cells": [
  {
   "cell_type": "code",
   "execution_count": null,
   "metadata": {},
   "outputs": [],
   "source": [
    "import os\n",
    "from dmi.opendata.forecast import DMIForecast"
   ]
  },
  {
   "cell_type": "code",
   "execution_count": null,
   "metadata": {},
   "outputs": [],
   "source": [
    "api_key = os.getenv('FORECASTEDR_API_KEY')\n",
    "model = \"wam_dw\""
   ]
  },
  {
   "cell_type": "code",
   "execution_count": null,
   "metadata": {},
   "outputs": [],
   "source": [
    "client = DMIForecast(api_key=api_key)"
   ]
  },
  {
   "cell_type": "code",
   "execution_count": null,
   "metadata": {},
   "outputs": [],
   "source": [
    "model_runs = client.get_model_runs(model=model)\n",
    "model_runs"
   ]
  },
  {
   "cell_type": "code",
   "execution_count": null,
   "metadata": {},
   "outputs": [],
   "source": [
    "parameters = [\"wind-speed\", \"significant-wave-height\"]\n",
    "latitude = 56.7\n",
    "longitude = 11.5"
   ]
  },
  {
   "cell_type": "code",
   "execution_count": null,
   "metadata": {},
   "outputs": [],
   "source": [
    "data = client.get_forecast(\n",
    "    latitude=latitude,\n",
    "    longitude=longitude,\n",
    "    model=model,\n",
    "    parameters=parameters,\n",
    "    model_run=\"latest\"\n",
    ")\n",
    "data"
   ]
  },
  {
   "cell_type": "code",
   "execution_count": null,
   "metadata": {},
   "outputs": [],
   "source": [
    "data = client.get_forecast(\n",
    "    latitude=latitude,\n",
    "    longitude=longitude,\n",
    "    model=model,\n",
    "    parameters=[],\n",
    "    model_run=\"latest\"\n",
    ")\n",
    "data"
   ]
  },
  {
   "cell_type": "code",
   "execution_count": null,
   "metadata": {},
   "outputs": [],
   "source": [
    "data = client.get_forecast(\n",
    "    latitude=latitude,\n",
    "    longitude=longitude,\n",
    "    model=model,\n",
    "    parameters=parameters,\n",
    "    model_run=model_runs[-1]\n",
    ")\n",
    "data"
   ]
  },
  {
   "cell_type": "code",
   "execution_count": null,
   "metadata": {},
   "outputs": [],
   "source": [
    "data = client.get_forecast(\n",
    "    latitude=latitude,\n",
    "    longitude=longitude,\n",
    "    model=model,\n",
    "    parameters=parameters,\n",
    "    model_run=model_runs[-1],\n",
    "    raw_forecast=True\n",
    ")\n",
    "data"
   ]
  },
  {
   "cell_type": "code",
   "execution_count": null,
   "metadata": {},
   "outputs": [],
   "source": [
    "from dmi.opendata.utils import convert_to_pandas_df\n",
    "\n",
    "convert_to_pandas_df(data)"
   ]
  }
 ],
 "metadata": {
  "kernelspec": {
   "display_name": "env",
   "language": "python",
   "name": "python3"
  },
  "language_info": {
   "codemirror_mode": {
    "name": "ipython",
    "version": 3
   },
   "file_extension": ".py",
   "mimetype": "text/x-python",
   "name": "python",
   "nbconvert_exporter": "python",
   "pygments_lexer": "ipython3",
   "version": "3.12.7"
  }
 },
 "nbformat": 4,
 "nbformat_minor": 2
}
